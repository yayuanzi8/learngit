{
 "cells": [
  {
   "cell_type": "code",
   "execution_count": 1,
   "metadata": {},
   "outputs": [],
   "source": [
    "# Required modules:\n",
    "# numpy\n",
    "# transformers\n",
    "# pandas\n",
    "# sklearn\n",
    "# matplotlib\n",
    "# seaborn\n",
    "\n",
    "import numpy as np\n",
    "# pip install transformers\n",
    "import transformers # 安装过程比较麻烦，如果出现安装错误并且说找不到某个包，那就先安装那个需要的包再继续尝试安装transformers\n",
    "import pandas\n",
    "from sklearn.metrics.pairwise import cosine_similarity\n",
    "import matplotlib.pyplot as plt\n",
    "import seaborn as sns"
   ]
  },
  {
   "cell_type": "code",
   "execution_count": 2,
   "metadata": {},
   "outputs": [],
   "source": [
    "tokenizer = transformers.BertTokenizer.from_pretrained(\"hfl/rbt3\")\n",
    "model = transformers.BertModel.from_pretrained(\"hfl/rbt3\")\n",
    "\n",
    "# Measure 函数，用于测量某个新闻条例是否为政策相关\n",
    "# 与已知为政策相关的条目测量相似度\n",
    "# Parameters:\n",
    "#     sentence：需要测量的条目，必须为文字\n",
    "#     tokenizer：分词+编码器\n",
    "#     model：BERT模型\n",
    "#     policy_matrix：已知政策相关的条目预测结果\n",
    "#     boundary：衡量相似度的标准，默认0.9\n",
    "\n",
    "def measure(sentence, tokenizer, model, policy_matrix, boundary=0.9):\n",
    "    encode = tokenizer(sentence, padding=True, return_tensors = \"pt\")\n",
    "    result = model(encode['input_ids'], attention_mask = encode['attention_mask'])\n",
    "    criteria_matrix = np.vstack((np.matrix(policy_matrix), result[1][0].detach()))\n",
    "    similarities = []\n",
    "    for i in range(criteria_matrix.shape[0]-1):\n",
    "        similarities.append(cosine_similarity(criteria_matrix[i], criteria_matrix[-1]))\n",
    "    mean_similarity = np.mean(similarities)\n",
    "    return mean_similarity > boundary"
   ]
  },
  {
   "cell_type": "code",
   "execution_count": 3,
   "metadata": {},
   "outputs": [],
   "source": [
    "# 构建policy_matrix的函数\n",
    "# Parameters:\n",
    "#     dataset需要通过pandas读取后将数据集对象传入，必须要有title列\n",
    "#     tokenizer：分词+编码器\n",
    "#     model：BERT模型\n",
    "\n",
    "def build_policy_matrix(dataset, tokenizer, model):\n",
    "    enc = tokenizer(list(dataset['title']), padding=True, return_tensors=\"pt\")\n",
    "    res = model(enc['input_ids'], attention_mask = enc['attention_mask'])\n",
    "    transformed_policies = res[1].detach()\n",
    "    return transformed_policies"
   ]
  },
  {
   "cell_type": "code",
   "execution_count": 4,
   "metadata": {},
   "outputs": [],
   "source": [
    "tr = pandas.read_csv(\"./training/test.csv\")"
   ]
  },
  {
   "cell_type": "code",
   "execution_count": 5,
   "metadata": {},
   "outputs": [],
   "source": [
    "mtx = build_policy_matrix(tr, tokenizer, model)"
   ]
  },
  {
   "cell_type": "code",
   "execution_count": 6,
   "metadata": {},
   "outputs": [],
   "source": [
    "tr2 = pandas.read_csv(\"./training/cleaned.csv\").iloc[:10]\n",
    "newo = tr2.iloc[2]"
   ]
  },
  {
   "cell_type": "code",
   "execution_count": 7,
   "metadata": {},
   "outputs": [
    {
     "data": {
      "text/plain": [
       "False"
      ]
     },
     "execution_count": 7,
     "metadata": {},
     "output_type": "execute_result"
    }
   ],
   "source": [
    "measure(newo['title'], tokenizer, model, mtx)"
   ]
  },
  {
   "cell_type": "code",
   "execution_count": 8,
   "metadata": {},
   "outputs": [
    {
     "data": {
      "text/plain": [
       "'中秋庆佳节,同心谱新篇:特莱维狮董事长徐建成中秋致辞'"
      ]
     },
     "execution_count": 8,
     "metadata": {},
     "output_type": "execute_result"
    }
   ],
   "source": [
    "newo['title']"
   ]
  },
  {
   "cell_type": "code",
   "execution_count": null,
   "metadata": {},
   "outputs": [],
   "source": []
  },
  {
   "cell_type": "code",
   "execution_count": null,
   "metadata": {},
   "outputs": [],
   "source": []
  },
  {
   "cell_type": "code",
   "execution_count": null,
   "metadata": {},
   "outputs": [],
   "source": []
  },
  {
   "cell_type": "code",
   "execution_count": null,
   "metadata": {},
   "outputs": [],
   "source": []
  },
  {
   "cell_type": "code",
   "execution_count": null,
   "metadata": {},
   "outputs": [],
   "source": []
  },
  {
   "cell_type": "code",
   "execution_count": null,
   "metadata": {},
   "outputs": [],
   "source": []
  },
  {
   "cell_type": "code",
   "execution_count": null,
   "metadata": {},
   "outputs": [],
   "source": []
  },
  {
   "cell_type": "code",
   "execution_count": null,
   "metadata": {},
   "outputs": [],
   "source": []
  },
  {
   "cell_type": "code",
   "execution_count": null,
   "metadata": {},
   "outputs": [],
   "source": []
  },
  {
   "cell_type": "code",
   "execution_count": null,
   "metadata": {},
   "outputs": [],
   "source": []
  }
 ],
 "metadata": {
  "kernelspec": {
   "display_name": "Python 3",
   "language": "python",
   "name": "python3"
  },
  "language_info": {
   "codemirror_mode": {
    "name": "ipython",
    "version": 3
   },
   "file_extension": ".py",
   "mimetype": "text/x-python",
   "name": "python",
   "nbconvert_exporter": "python",
   "pygments_lexer": "ipython3",
   "version": "3.7.4"
  }
 },
 "nbformat": 4,
 "nbformat_minor": 4
}
